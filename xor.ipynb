{
 "cells": [
  {
   "cell_type": "code",
   "execution_count": 18,
   "metadata": {},
   "outputs": [],
   "source": [
    "import numpy as np\n",
    "\n",
    "class Perceptron:\n",
    "    def __init__(self,w1,w2,b):\n",
    "        self.w1=w1\n",
    "        self.w2=w2        \n",
    "        self.b=b        \n",
    "        self.W=np.array([self.w1, self.w2])\n",
    "    def output(self,X):\n",
    "        #重み付き入力Z\n",
    "        Z=np.dot(self.W,X)+self.b\n",
    "        if(Z>0):\n",
    "            return 1\n",
    "        else:\n",
    "            return 0\n",
    "\n"
   ]
  },
  {
   "cell_type": "code",
   "execution_count": 19,
   "metadata": {},
   "outputs": [],
   "source": [
    "and_p=Perceptron(0.5,0.5,-0.7)\n",
    "nand_p=Perceptron(-0.5,-0.5,0.7)\n",
    "or_p=Perceptron(0.5,0.5,-0.2)"
   ]
  },
  {
   "cell_type": "code",
   "execution_count": 38,
   "metadata": {},
   "outputs": [],
   "source": [
    "X=np.array([1,1])"
   ]
  },
  {
   "cell_type": "code",
   "execution_count": 39,
   "metadata": {},
   "outputs": [
    {
     "data": {
      "text/plain": [
       "0"
      ]
     },
     "execution_count": 39,
     "metadata": {},
     "output_type": "execute_result"
    }
   ],
   "source": [
    "#XORのパーセプトロンでの表現\n",
    "x1=nand_p.output(X)\n",
    "x2=or_p.output(X)\n",
    "and_p.output(np.array([x1,x2]))"
   ]
  },
  {
   "cell_type": "code",
   "execution_count": null,
   "metadata": {},
   "outputs": [],
   "source": []
  }
 ],
 "metadata": {
  "kernelspec": {
   "display_name": "Python 3",
   "language": "python",
   "name": "python3"
  },
  "language_info": {
   "codemirror_mode": {
    "name": "ipython",
    "version": 3
   },
   "file_extension": ".py",
   "mimetype": "text/x-python",
   "name": "python",
   "nbconvert_exporter": "python",
   "pygments_lexer": "ipython3",
   "version": "3.6.9"
  }
 },
 "nbformat": 4,
 "nbformat_minor": 4
}
